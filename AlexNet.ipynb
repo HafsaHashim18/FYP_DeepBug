{
 "cells": [
  {
   "cell_type": "markdown",
   "id": "1d6fcce9",
   "metadata": {},
   "source": [
    "# PROJECT DETAILS\n",
    "\n",
    "ViolenceXplainAR\n",
    "\n",
    "Research and Development\n",
    "\n",
    "Supervisor: Mr. Hassan Mustafa\n",
    "\n",
    "# Group Members\n",
    "\n",
    "Iqra Aziz&emsp;&emsp;&emsp;&emsp;&emsp;&ensp; 18I-0491\n",
    "\n",
    "Tehreem Khawar   &emsp;&ensp;   18I-0489 &nbsp; \n",
    "\n",
    "Hafsa   &emsp;&emsp;&emsp;&emsp;&emsp;&emsp;&ensp;      18I-0405 &nbsp; "
   ]
  },
  {
   "cell_type": "markdown",
   "id": "1ca8fa4c",
   "metadata": {},
   "source": [
    "# CODE REFERENCES\n",
    "\n",
    "http://www.heatmapping.org/\n",
    "\n",
    "https://git.tu-berlin.de/gmontavon/lrp-tutorial"
   ]
  },
  {
   "cell_type": "markdown",
   "id": "0ff8435c",
   "metadata": {},
   "source": [
    "# IMPORTS\n"
   ]
  },
  {
   "cell_type": "code",
   "execution_count": 32,
   "id": "de752429",
   "metadata": {},
   "outputs": [],
   "source": [
    "import cv2\n",
    "import torchvision\n",
    "import torch\n",
    "import urllib\n",
    "from PIL import Image\n",
    "from torchvision import transforms"
   ]
  },
  {
   "cell_type": "markdown",
   "id": "1c89c4ed",
   "metadata": {},
   "source": [
    "# LOADING MODEL"
   ]
  },
  {
   "cell_type": "code",
   "execution_count": 28,
   "id": "7e97ae85",
   "metadata": {},
   "outputs": [
    {
     "name": "stderr",
     "output_type": "stream",
     "text": [
      "Using cache found in /home/violencexplainar/.cache/torch/hub/pytorch_vision_v0.6.0\n"
     ]
    }
   ],
   "source": [
    "AlexNet_model = torch.hub.load('pytorch/vision:v0.6.0', 'alexnet', pretrained=True)"
   ]
  },
  {
   "cell_type": "code",
   "execution_count": 29,
   "id": "760ff2fa",
   "metadata": {},
   "outputs": [
    {
     "data": {
      "text/plain": [
       "AlexNet(\n",
       "  (features): Sequential(\n",
       "    (0): Conv2d(3, 64, kernel_size=(11, 11), stride=(4, 4), padding=(2, 2))\n",
       "    (1): ReLU(inplace=True)\n",
       "    (2): MaxPool2d(kernel_size=3, stride=2, padding=0, dilation=1, ceil_mode=False)\n",
       "    (3): Conv2d(64, 192, kernel_size=(5, 5), stride=(1, 1), padding=(2, 2))\n",
       "    (4): ReLU(inplace=True)\n",
       "    (5): MaxPool2d(kernel_size=3, stride=2, padding=0, dilation=1, ceil_mode=False)\n",
       "    (6): Conv2d(192, 384, kernel_size=(3, 3), stride=(1, 1), padding=(1, 1))\n",
       "    (7): ReLU(inplace=True)\n",
       "    (8): Conv2d(384, 256, kernel_size=(3, 3), stride=(1, 1), padding=(1, 1))\n",
       "    (9): ReLU(inplace=True)\n",
       "    (10): Conv2d(256, 256, kernel_size=(3, 3), stride=(1, 1), padding=(1, 1))\n",
       "    (11): ReLU(inplace=True)\n",
       "    (12): MaxPool2d(kernel_size=3, stride=2, padding=0, dilation=1, ceil_mode=False)\n",
       "  )\n",
       "  (avgpool): AdaptiveAvgPool2d(output_size=(6, 6))\n",
       "  (classifier): Sequential(\n",
       "    (0): Dropout(p=0.5, inplace=False)\n",
       "    (1): Linear(in_features=9216, out_features=4096, bias=True)\n",
       "    (2): ReLU(inplace=True)\n",
       "    (3): Dropout(p=0.5, inplace=False)\n",
       "    (4): Linear(in_features=4096, out_features=4096, bias=True)\n",
       "    (5): ReLU(inplace=True)\n",
       "    (6): Linear(in_features=4096, out_features=1000, bias=True)\n",
       "  )\n",
       ")"
      ]
     },
     "execution_count": 29,
     "metadata": {},
     "output_type": "execute_result"
    }
   ],
   "source": [
    "#Model description\n",
    "AlexNet_model.eval()"
   ]
  },
  {
   "cell_type": "markdown",
   "id": "608f992d",
   "metadata": {},
   "source": [
    "# LAYERS"
   ]
  },
  {
   "cell_type": "code",
   "execution_count": 30,
   "id": "46da1a4d",
   "metadata": {},
   "outputs": [
    {
     "name": "stdout",
     "output_type": "stream",
     "text": [
      "Total number of Layers: 20\n"
     ]
    }
   ],
   "source": [
    "layers = list(AlexNet_model._modules['features']) + list(AlexNet_model._modules['classifier'])\n",
    "L = len(layers)\n",
    "print(\"Total number of Layers:\", L)"
   ]
  },
  {
   "cell_type": "markdown",
   "id": "8fd763a0",
   "metadata": {},
   "source": [
    "# Loading an Image for Heatmap Generation"
   ]
  },
  {
   "cell_type": "code",
   "execution_count": 31,
   "id": "bea79187",
   "metadata": {},
   "outputs": [],
   "source": [
    "filename = (\"/home/violencexplainar/Desktop/testset_images/bucket.jpg\")"
   ]
  },
  {
   "cell_type": "markdown",
   "id": "a17be556",
   "metadata": {},
   "source": [
    "# EXECUTION OF MODEL USING TORCHVISION"
   ]
  },
  {
   "cell_type": "code",
   "execution_count": 34,
   "id": "43f5a3d6",
   "metadata": {},
   "outputs": [],
   "source": [
    "\n",
    "input_image = Image.open(filename)\n",
    "preprocess = transforms.Compose([\n",
    "    transforms.Resize(256),\n",
    "    transforms.CenterCrop(224),\n",
    "    transforms.ToTensor(),\n",
    "    transforms.Normalize(mean=[0.485, 0.456, 0.406], std=[0.229, 0.224, 0.225]),\n",
    "])\n",
    "input_tensor = preprocess(input_image)\n",
    "input_batch = input_tensor.unsqueeze(0) # create a mini-batch as expected by the model\n",
    "\n",
    "# move the input and model to GPU for speed if available\n",
    "if torch.cuda.is_available():\n",
    "    input_batch = input_batch.to('cuda')\n",
    "    AlexNet_model.to('cuda')\n",
    "\n",
    "with torch.no_grad():\n",
    "    output = AlexNet_model(input_batch)\n",
    "    \n",
    "# The output has unnormalized scores. To get probabilities, you can run a softmax on it.\n",
    "probabilities = torch.nn.functional.softmax(output[0], dim=0)\n"
   ]
  },
  {
   "cell_type": "markdown",
   "id": "7b03a327",
   "metadata": {},
   "source": [
    "# DOWNLOAD IMAGENET LABELS"
   ]
  },
  {
   "cell_type": "code",
   "execution_count": 12,
   "id": "8cb34d2a",
   "metadata": {},
   "outputs": [],
   "source": [
    "#!wget https://raw.githubusercontent.com/pytorch/hub/master/imagenet_classes.txt"
   ]
  },
  {
   "cell_type": "markdown",
   "id": "bbae7ba5",
   "metadata": {},
   "source": [
    "# READING THE CATEGORIES AND SHOWING TOP ONES"
   ]
  },
  {
   "cell_type": "code",
   "execution_count": 35,
   "id": "a90dd823",
   "metadata": {},
   "outputs": [
    {
     "name": "stdout",
     "output_type": "stream",
     "text": [
      "measuring cup 0.8919405341148376\n",
      "beaker 0.1034313440322876\n",
      "bucket 0.003189670154824853\n",
      "sunscreen 0.0005878391675651073\n",
      "candle 0.00012576013978105038\n",
      "tensor(647, device='cuda:0') 0.8919405341148376\n"
     ]
    }
   ],
   "source": [
    "with open(\"imagenet_classes.txt\", \"r\") as f:\n",
    "    categories = [s.strip() for s in f.readlines()]\n",
    "    \n",
    "# Show top 5 categories per image\n",
    "top5_prob, top5_catid = torch.topk(probabilities, 5)\n",
    "for i in range(top5_prob.size(0)):\n",
    "    print(categories[top5_catid[i]], top5_prob[i].item())\n",
    "max_prob = top5_catid[0]\n",
    "print(max_prob,top5_prob[0].item())"
   ]
  },
  {
   "cell_type": "markdown",
   "id": "d8969dff",
   "metadata": {},
   "source": [
    "# FORWARD PASS"
   ]
  },
  {
   "cell_type": "code",
   "execution_count": 53,
   "id": "6a150cc9",
   "metadata": {},
   "outputs": [
    {
     "name": "stdout",
     "output_type": "stream",
     "text": [
      "Size of Input Image torch.Size([1, 3, 224, 224])\n"
     ]
    }
   ],
   "source": [
    "X = input_batch\n",
    "print(\"Size of Input Image\", X.shape)"
   ]
  },
  {
   "cell_type": "markdown",
   "id": "2b7d0d89",
   "metadata": {},
   "source": [
    "# ACTIVATIONS"
   ]
  },
  {
   "cell_type": "code",
   "execution_count": 61,
   "id": "c30e0a5c",
   "metadata": {},
   "outputs": [
    {
     "name": "stdout",
     "output_type": "stream",
     "text": [
      "Number of Activations:  21\n",
      "Activation 0 (Image) Shape torch.Size([1, 3, 224, 224])\n",
      "Activation  1  Shape: torch.Size([1, 64, 55, 55])\n",
      "Activation  2  Shape: torch.Size([1, 64, 55, 55])\n",
      "Activation  3  Shape: torch.Size([1, 64, 27, 27])\n",
      "Activation  4  Shape: torch.Size([1, 192, 27, 27])\n",
      "Activation  5  Shape: torch.Size([1, 192, 27, 27])\n",
      "Activation  6  Shape: torch.Size([1, 192, 13, 13])\n",
      "Activation  7  Shape: torch.Size([1, 384, 13, 13])\n",
      "Activation  8  Shape: torch.Size([1, 384, 13, 13])\n",
      "Activation  9  Shape: torch.Size([1, 256, 13, 13])\n",
      "Activation  10  Shape: torch.Size([1, 256, 13, 13])\n",
      "Activation  11  Shape: torch.Size([1, 256, 13, 13])\n",
      "Activation  12  Shape: torch.Size([1, 256, 13, 13])\n",
      "Activation  13  Shape: torch.Size([1, 256, 6, 6])\n",
      "Activation  14  Shape: torch.Size([1, 256, 6, 6])\n"
     ]
    }
   ],
   "source": [
    "A = [X] + [None] * L\n",
    "print(\"Number of Activations: \",len(A))\n",
    "print(\"Activation 0 (Image) Shape\", A[0].shape) #image activation\n",
    "\n",
    "#total activations : 21\n",
    "#total layers : 20\n",
    "for l in range(14): #activations for first sequential i.e., features (conv2d and MaxPool2d)\n",
    "    A[l+1] = layers[l].forward(A[l])\n",
    "    print(\"Activation \",l+1, \" Shape:\", A[l+1].shape) \n"
   ]
  },
  {
   "cell_type": "code",
   "execution_count": 62,
   "id": "09f9425e",
   "metadata": {},
   "outputs": [],
   "source": [
    "#reshaping the matrix to apply linear using avgpool2d\n",
    "l=14\n",
    "\n",
    "bs, _, _, _ = A[l].shape\n",
    "A[l] = A[l].reshape(bs, -1)"
   ]
  },
  {
   "cell_type": "code",
   "execution_count": 63,
   "id": "063aa244",
   "metadata": {},
   "outputs": [
    {
     "name": "stdout",
     "output_type": "stream",
     "text": [
      "Layer 15  Activation torch.Size([1, 9216])\n",
      "Layer 16  Activation torch.Size([1, 4096])\n",
      "Layer 17  Activation torch.Size([1, 4096])\n",
      "Layer 18  Activation torch.Size([1, 4096])\n",
      "Layer 19  Activation torch.Size([1, 4096])\n",
      "Layer 20  Activation torch.Size([1, 4096])\n"
     ]
    }
   ],
   "source": [
    "#activations of second sequential i.e., classifier (linear) from layer 15 to 20\n",
    "l = 14 \n",
    "A[l+1] = layers[l].forward(A[l])\n",
    "print(\"Layer\", l+1, \" Activation\", A[l].shape)\n",
    "\n",
    "l += 1 \n",
    "A[l+1] = layers[l].forward(A[l])\n",
    "print(\"Layer\", l+1, \" Activation\", A[l].shape)\n",
    "\n",
    "l += 1\n",
    "A[l+1] = layers[l].forward(A[l])\n",
    "print(\"Layer\", l+1, \" Activation\", A[l].shape)\n",
    "\n",
    "l += 1\n",
    "A[l+1] = layers[l].forward(A[l])\n",
    "print(\"Layer\", l+1, \" Activation\", A[l].shape)\n",
    "\n",
    "l += 1\n",
    "A[l+1] = layers[l].forward(A[l])\n",
    "print(\"Layer\", l+1, \" Activation\", A[l].shape)\n",
    "\n",
    "l += 1\n",
    "A[l+1] = layers[l].forward(A[l])\n",
    "print(\"Layer\", l+1, \" Activation\", A[l].shape)\n"
   ]
  },
  {
   "cell_type": "markdown",
   "id": "8eaec877",
   "metadata": {},
   "source": [
    "# Probabilities of classes"
   ]
  },
  {
   "cell_type": "code",
   "execution_count": 64,
   "id": "b136a885",
   "metadata": {},
   "outputs": [
    {
     "name": "stdout",
     "output_type": "stream",
     "text": [
      "       measuring cup (647): 22.674\n",
      "              beaker (438): 20.519\n",
      "        bucket, pail (463): 17.040\n",
      "sunscreen, sunblock, (838): 15.349\n",
      "candle, taper, wax l (470): 13.807\n",
      "           water jug (899): 13.720\n",
      "              lotion (631): 13.544\n",
      "              nipple (680): 13.528\n",
      "              goblet (572): 13.348\n",
      "    perfume, essence (711): 12.618\n"
     ]
    }
   ],
   "source": [
    "import numpy\n",
    "import utils2\n",
    "scores = numpy.array(A[-1].data.view(-1).cpu())\n",
    "ind = numpy.argsort(-scores)\n",
    "for i in ind[:10]:\n",
    "    print('%20s (%3d): %6.3f'%(utils2.imgclasses[i][:20],i,scores[i]))"
   ]
  },
  {
   "cell_type": "markdown",
   "id": "38ddafb3",
   "metadata": {},
   "source": [
    "# Choosing Max Probabilities"
   ]
  },
  {
   "cell_type": "code",
   "execution_count": 65,
   "id": "576fd59e",
   "metadata": {},
   "outputs": [],
   "source": [
    "T = torch.FloatTensor((1.0*(numpy.arange(1000)==647).reshape([1,1000,1,1])))"
   ]
  },
  {
   "cell_type": "markdown",
   "id": "11cb29da",
   "metadata": {},
   "source": [
    "# Calculating Relevances"
   ]
  },
  {
   "cell_type": "code",
   "execution_count": 75,
   "id": "e4dc5d5e",
   "metadata": {},
   "outputs": [],
   "source": [
    "R = [None]*L + [(A[-1].cuda()*T.cuda()).data]"
   ]
  },
  {
   "cell_type": "code",
   "execution_count": 76,
   "id": "0eb0e771",
   "metadata": {},
   "outputs": [
    {
     "name": "stdout",
     "output_type": "stream",
     "text": [
      "Relevance  19  Shape: torch.Size([1, 4096])\n",
      "Relevance  17  Shape: torch.Size([1, 4096])\n",
      "Relevance  14  Shape: torch.Size([1, 9216])\n"
     ]
    }
   ],
   "source": [
    "#for classifier sequential\n",
    "for l in range(13,20)[::-1]:\n",
    "    \n",
    "    A[l] = (A[l].data).requires_grad_(True)\n",
    "\n",
    "    if isinstance(layers[l],torch.nn.MaxPool2d): layers[l] = torch.nn.AvgPool2d(2)\n",
    "\n",
    "    if isinstance(layers[l],torch.nn.Conv2d) or isinstance(layers[l],torch.nn.AvgPool2d) or isinstance(layers[l],torch.nn.Linear):\n",
    "\n",
    "        if l <= 7:       rho = lambda p: p + 0.25*p.clamp(min=0); incr = lambda z: z+1e-9\n",
    "        if 8 <= l <= 12: rho = lambda p: p;                       incr = lambda z: z+1e-9+0.25*((z**2).mean()**.5).data\n",
    "        if l >= 13:       rho = lambda p: p;                       incr = lambda z: z+1e-9\n",
    "\n",
    "        z = incr(utils2.newlayer(layers[l],rho).forward(A[l]))  # step 1\n",
    "        s = (R[l+1]/z).data                                    # step 2\n",
    "        (z*s).sum().backward(); c = A[l].grad                  # step 3\n",
    "        R[l] = (A[l]*c).data   # step 4\n",
    "        print(\"Relevance \", l, \" Shape:\",R[l].shape)\n",
    "        \n",
    "    else:\n",
    "        # On Activation and dropout layers Relevance is simply passed back \n",
    "        layers[l]\n",
    "        R[l] = R[l+1]\n"
   ]
  },
  {
   "cell_type": "code",
   "execution_count": 77,
   "id": "6362ef9f",
   "metadata": {},
   "outputs": [
    {
     "name": "stdout",
     "output_type": "stream",
     "text": [
      "R13 before reshaping:  torch.Size([1, 9216])\n",
      "R13 after reshaping:  torch.Size([1, 256, 6, 6])\n"
     ]
    }
   ],
   "source": [
    "#dimension matching between sequentials\n",
    "import numpy as np\n",
    "l = 12\n",
    "A[l] = (A[l].data).requires_grad_(True)\n",
    "\n",
    "if isinstance(layers[l],torch.nn.MaxPool2d): layers[l] = torch.nn.AvgPool2d(2)\n",
    "\n",
    "if isinstance(layers[l],torch.nn.Conv2d) or isinstance(layers[l],torch.nn.AvgPool2d) or isinstance(layers[l],torch.nn.Linear):\n",
    "\n",
    "    if l <= 7:       rho = lambda p: p + 0.25*p.clamp(min=0); incr = lambda z: z+1e-9\n",
    "    if 8 <= l <= 12: rho = lambda p: p;                       incr = lambda z: z+1e-9+0.25*((z**2).mean()**.5).data\n",
    "    if l >= 13:       rho = lambda p: p;                       incr = lambda z: z+1e-9\n",
    "\n",
    "    z = incr(utils2.newlayer(layers[l],rho).forward(A[l]))  # step 1\n",
    "    print (\"R13 before reshaping: \",R[l+1].shape)\n",
    "\n",
    "    R[l+1] = R[l+1].reshape(1,256,6,6)\n",
    "\n",
    "\n",
    "\n",
    "    print (\"R13 after reshaping: \",R[l+1].shape)\n",
    "\n",
    "    s = (R[l+1].cuda()/z.cuda()).data                                    # step 2\n",
    "    (z*s).sum().backward(); c = A[l].grad                  # step 3\n",
    "    R[l] = (A[l]*c).data"
   ]
  },
  {
   "cell_type": "code",
   "execution_count": 79,
   "id": "9877b1d1",
   "metadata": {},
   "outputs": [
    {
     "name": "stdout",
     "output_type": "stream",
     "text": [
      "Relevance  10  Shape: torch.Size([1, 256, 13, 13])\n",
      "Relevance  8  Shape: torch.Size([1, 384, 13, 13])\n",
      "Relevance  6  Shape: torch.Size([1, 192, 13, 13])\n",
      "Relevance  5  Shape: torch.Size([1, 192, 27, 27])\n",
      "Relevance  3  Shape: torch.Size([1, 64, 27, 27])\n",
      "Relevance  2  Shape: torch.Size([1, 64, 55, 55])\n"
     ]
    }
   ],
   "source": [
    "#for features sequential\n",
    "for l in range(1,12)[::-1]:\n",
    "    \n",
    "    A[l] = (A[l].data).requires_grad_(True)\n",
    "\n",
    "    if isinstance(layers[l],torch.nn.MaxPool2d): layers[l] = torch.nn.AvgPool2d(2)\n",
    "\n",
    "    if isinstance(layers[l],torch.nn.Conv2d) or isinstance(layers[l],torch.nn.AvgPool2d) or isinstance(layers[l],torch.nn.Linear):\n",
    "\n",
    "        if l <= 7:       rho = lambda p: p + 0.25*p.clamp(min=0); incr = lambda z: z+1e-9\n",
    "        if 8 <= l <= 12: rho = lambda p: p;                       incr = lambda z: z+1e-9+0.25*((z**2).mean()**.5).data\n",
    "        if l >= 13:       rho = lambda p: p;                       incr = lambda z: z+1e-9\n",
    "\n",
    "        z = incr(utils2.newlayer(layers[l],rho).forward(A[l]))  # step 1\n",
    "        s = (R[l+1]/z).data                                    # step 2\n",
    "        (z*s).sum().backward(); c = A[l].grad                  # step 3\n",
    "        R[l] = (A[l]*c).data   # step 4\n",
    "        print(\"Relevance \", l, \" Shape:\",R[l].shape)\n",
    "    else:\n",
    "        layers[l]\n",
    "        R[l] = R[l+1]"
   ]
  },
  {
   "cell_type": "markdown",
   "id": "bd5b195d",
   "metadata": {},
   "source": [
    "# Top Most Layer (L=0) (1,3,224,224)"
   ]
  },
  {
   "cell_type": "code",
   "execution_count": 81,
   "id": "9cf53be9",
   "metadata": {},
   "outputs": [
    {
     "name": "stdout",
     "output_type": "stream",
     "text": [
      "Relevance  0  Shape: torch.Size([1, 3, 224, 224])\n"
     ]
    }
   ],
   "source": [
    "l=0\n",
    "A[0] = (A[0].data).requires_grad_(True)\n",
    "mean = torch.Tensor([0.485, 0.456, 0.406]).reshape(1, -1, 1, 1)\n",
    "std = torch.Tensor([0.229, 0.224, 0.225]).reshape(1, -1, 1, 1)\n",
    "x=(0-mean)/std\n",
    "y=A[0].data*0\n",
    "z=(1-mean)/std\n",
    "lb = (y.cuda()+x.cuda()).requires_grad_(True)\n",
    "hb = (y.cuda()+z.cuda()).requires_grad_(True)\n",
    "\n",
    "z = layers[0].forward(A[0]) + 1e-9                                     # step 1 (a)\n",
    "z -= utils2.newlayer(layers[0],lambda p: p.clamp(min=0)).forward(lb)    # step 1 (b)\n",
    "z -= utils2.newlayer(layers[0],lambda p: p.clamp(max=0)).forward(hb)    # step 1 (c)\n",
    "s = (R[1]/z).data                                                      # step 2\n",
    "(z*s).sum().backward(); c,cp,cm = A[0].grad,lb.grad,hb.grad            # step 3\n",
    "R[0] = (A[0]*c+lb*cp+hb*cm).data \n",
    "\n",
    "print(\"Relevance \", l, \" Shape:\",R[l].shape)"
   ]
  },
  {
   "cell_type": "markdown",
   "id": "459ea00c",
   "metadata": {},
   "source": [
    "# HeatMaps"
   ]
  },
  {
   "cell_type": "code",
   "execution_count": 82,
   "id": "6dc5c97d",
   "metadata": {},
   "outputs": [
    {
     "data": {
      "image/png": "[encoded data removed]",
      "text/plain": [
       "<Figure size 216x216 with 1 Axes>"
      ]
     },
     "metadata": {
      "needs_background": "light"
     },
     "output_type": "display_data"
    },
    {
     "data": {
      "image/png": "[encoded data removed]",
      "text/plain": [
       "<Figure size 216x216 with 1 Axes>"
      ]
     },
     "metadata": {
      "needs_background": "light"
     },
     "output_type": "display_data"
    },
    {
     "data": {
      "image/png": "[encoded data removed]",
      "text/plain": [
       "<Figure size 216x216 with 1 Axes>"
      ]
     },
     "metadata": {
      "needs_background": "light"
     },
     "output_type": "display_data"
    },
    {
     "data": {
      "image/png": "[encoded data removed]",
      "text/plain": [
       "<Figure size 216x216 with 1 Axes>"
      ]
     },
     "metadata": {
      "needs_background": "light"
     },
     "output_type": "display_data"
    },
    {
     "data": {
      "image/png": "[encoded data removed]",
      "text/plain": [
       "<Figure size 216x216 with 1 Axes>"
      ]
     },
     "metadata": {
      "needs_background": "light"
     },
     "output_type": "display_data"
    },
    {
     "data": {
      "image/png": "[encoded data removed]",
      "text/plain": [
       "<Figure size 216x216 with 1 Axes>"
      ]
     },
     "metadata": {
      "needs_background": "light"
     },
     "output_type": "display_data"
    },
    {
     "data": {
      "image/png": "[encoded data removed]",
      "text/plain": [
       "<Figure size 216x216 with 1 Axes>"
      ]
     },
     "metadata": {
      "needs_background": "light"
     },
     "output_type": "display_data"
    }
   ],
   "source": [
    "utils2.heatmap(R[11][0].sum(axis=0).cpu().detach().numpy(),3,3)\n",
    "utils2.heatmap(R[9][0].sum(axis=0).cpu().detach().numpy(),3,3)\n",
    "utils2.heatmap(R[6][0].sum(axis=0).cpu().detach().numpy(),3,3)\n",
    "utils2.heatmap(R[4][0].sum(axis=0).cpu().detach().numpy(),3,3)\n",
    "utils2.heatmap(R[2][0].sum(axis=0).cpu().detach().numpy(),3,3)\n",
    "utils2.heatmap(R[1][0].sum(axis=0).cpu().detach().numpy(),3,3)\n",
    "utils2.heatmap(numpy.array(R[0][0].cpu()).sum(axis=0),3,3)"
   ]
  }
 ],
 "metadata": {
  "kernelspec": {
   "display_name": "Python 3 (ipykernel)",
   "language": "python",
   "name": "python3"
  },
  "language_info": {
   "codemirror_mode": {
    "name": "ipython",
    "version": 3
   },
   "file_extension": ".py",
   "mimetype": "text/x-python",
   "name": "python",
   "nbconvert_exporter": "python",
   "pygments_lexer": "ipython3",
   "version": "3.9.7"
  }
 },
 "nbformat": 4,
 "nbformat_minor": 5
}
