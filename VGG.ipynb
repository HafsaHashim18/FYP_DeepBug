{
 "cells": [
  {
   "cell_type": "markdown",
   "id": "e5dc5ab6",
   "metadata": {},
   "source": [
    "# Project Details"
   ]
  },
  {
   "cell_type": "markdown",
   "id": "bcb25427",
   "metadata": {},
   "source": [
    "ViolenceXplainar \n",
    "\n",
    "Research and development project\n",
    "\n",
    "Supervisor: Mr. Hassan Mustafa\n",
    "\n",
    "Group members: Tehreem Khawar(18I-0489), Iqra Aziz(18i-0491), Hafsa(18i-405)"
   ]
  },
  {
   "cell_type": "markdown",
   "id": "c79d12ae",
   "metadata": {},
   "source": [
    "# Code References"
   ]
  },
  {
   "cell_type": "markdown",
   "id": "591de365",
   "metadata": {},
   "source": [
    "http://www.heatmapping.org/\n",
    "\n",
    "https://git.tu-berlin.de/gmontavon/lrp-tutorial"
   ]
  },
  {
   "cell_type": "markdown",
   "id": "e8ddb2d0",
   "metadata": {},
   "source": [
    "# Importing Libraries"
   ]
  },
  {
   "cell_type": "code",
   "execution_count": 1,
   "id": "6a8a6c20",
   "metadata": {},
   "outputs": [],
   "source": [
    "import cv2\n",
    "import numpy\n",
    "import torch\n",
    "import utils\n",
    "from PIL import Image\n",
    "from torchvision import transforms\n",
    "import torchvision"
   ]
  },
  {
   "cell_type": "markdown",
   "id": "05476a3e",
   "metadata": {},
   "source": [
    "# Fetching Input Image and Resizing it"
   ]
  },
  {
   "cell_type": "code",
   "execution_count": 2,
   "id": "0c074858",
   "metadata": {},
   "outputs": [],
   "source": [
    "\n",
    "# img = numpy.array(cv2.imread('/home/violencexplainar/Desktop/testset_images/ambulance.jpg'))[...,::-1]/255.0\n",
    "\n",
    "filename = (\"/home/violencexplainar/Desktop/testset_images/blackwidow.jpg\")\n",
    "img = Image.open(filename)\n",
    "mean = torch.Tensor([0.485, 0.456, 0.406]).reshape(1,-1,1,1)\n",
    "std  = torch.Tensor([0.229, 0.224, 0.225]).reshape(1,-1,1,1)\n",
    "\n",
    "\n",
    "preprocess = transforms.Compose([\n",
    "    transforms.Resize(256),\n",
    "    transforms.CenterCrop(224),\n",
    "    transforms.ToTensor(),\n",
    "    transforms.Normalize(mean=[0.485, 0.456, 0.406], std=[0.229, 0.224, 0.225]),\n",
    "])\n",
    "input_tensor = preprocess(img)\n",
    "input_batch = input_tensor.unsqueeze(0) # create a mini-batch as expected by the model\n",
    "\n",
    "X=input_batch"
   ]
  },
  {
   "cell_type": "markdown",
   "id": "fdcebaf5",
   "metadata": {},
   "source": [
    "Input Dimensions"
   ]
  },
  {
   "cell_type": "code",
   "execution_count": 3,
   "id": "d24ab085",
   "metadata": {},
   "outputs": [
    {
     "data": {
      "text/plain": [
       "torch.Size([1, 3, 224, 224])"
      ]
     },
     "execution_count": 3,
     "metadata": {},
     "output_type": "execute_result"
    }
   ],
   "source": [
    "X.shape"
   ]
  },
  {
   "cell_type": "markdown",
   "id": "b6f3e079",
   "metadata": {},
   "source": [
    "# Model Layers"
   ]
  },
  {
   "cell_type": "code",
   "execution_count": 4,
   "id": "4db7915d",
   "metadata": {},
   "outputs": [
    {
     "name": "stdout",
     "output_type": "stream",
     "text": [
      "Model has  38  Layers\n",
      "VGG(\n",
      "  (features): Sequential(\n",
      "    (0): Conv2d(3, 64, kernel_size=(3, 3), stride=(1, 1), padding=(1, 1))\n",
      "    (1): ReLU(inplace=True)\n",
      "    (2): Conv2d(64, 64, kernel_size=(3, 3), stride=(1, 1), padding=(1, 1))\n",
      "    (3): ReLU(inplace=True)\n",
      "    (4): MaxPool2d(kernel_size=2, stride=2, padding=0, dilation=1, ceil_mode=False)\n",
      "    (5): Conv2d(64, 128, kernel_size=(3, 3), stride=(1, 1), padding=(1, 1))\n",
      "    (6): ReLU(inplace=True)\n",
      "    (7): Conv2d(128, 128, kernel_size=(3, 3), stride=(1, 1), padding=(1, 1))\n",
      "    (8): ReLU(inplace=True)\n",
      "    (9): MaxPool2d(kernel_size=2, stride=2, padding=0, dilation=1, ceil_mode=False)\n",
      "    (10): Conv2d(128, 256, kernel_size=(3, 3), stride=(1, 1), padding=(1, 1))\n",
      "    (11): ReLU(inplace=True)\n",
      "    (12): Conv2d(256, 256, kernel_size=(3, 3), stride=(1, 1), padding=(1, 1))\n",
      "    (13): ReLU(inplace=True)\n",
      "    (14): Conv2d(256, 256, kernel_size=(3, 3), stride=(1, 1), padding=(1, 1))\n",
      "    (15): ReLU(inplace=True)\n",
      "    (16): MaxPool2d(kernel_size=2, stride=2, padding=0, dilation=1, ceil_mode=False)\n",
      "    (17): Conv2d(256, 512, kernel_size=(3, 3), stride=(1, 1), padding=(1, 1))\n",
      "    (18): ReLU(inplace=True)\n",
      "    (19): Conv2d(512, 512, kernel_size=(3, 3), stride=(1, 1), padding=(1, 1))\n",
      "    (20): ReLU(inplace=True)\n",
      "    (21): Conv2d(512, 512, kernel_size=(3, 3), stride=(1, 1), padding=(1, 1))\n",
      "    (22): ReLU(inplace=True)\n",
      "    (23): MaxPool2d(kernel_size=2, stride=2, padding=0, dilation=1, ceil_mode=False)\n",
      "    (24): Conv2d(512, 512, kernel_size=(3, 3), stride=(1, 1), padding=(1, 1))\n",
      "    (25): ReLU(inplace=True)\n",
      "    (26): Conv2d(512, 512, kernel_size=(3, 3), stride=(1, 1), padding=(1, 1))\n",
      "    (27): ReLU(inplace=True)\n",
      "    (28): Conv2d(512, 512, kernel_size=(3, 3), stride=(1, 1), padding=(1, 1))\n",
      "    (29): ReLU(inplace=True)\n",
      "    (30): MaxPool2d(kernel_size=2, stride=2, padding=0, dilation=1, ceil_mode=False)\n",
      "  )\n",
      "  (avgpool): AdaptiveAvgPool2d(output_size=(7, 7))\n",
      "  (classifier): Sequential(\n",
      "    (0): Linear(in_features=25088, out_features=4096, bias=True)\n",
      "    (1): ReLU(inplace=True)\n",
      "    (2): Dropout(p=0.5, inplace=False)\n",
      "    (3): Linear(in_features=4096, out_features=4096, bias=True)\n",
      "    (4): ReLU(inplace=True)\n",
      "    (5): Dropout(p=0.5, inplace=False)\n",
      "    (6): Linear(in_features=4096, out_features=1000, bias=True)\n",
      "  )\n",
      ")\n"
     ]
    }
   ],
   "source": [
    "model = torchvision.models.vgg16(pretrained=True); model.eval()\n",
    "layers = list(model._modules['features']) + utils.toconv(list(model._modules['classifier']))\n",
    "L = len(layers)\n",
    "\n",
    "print(\"Model has \",L, \" Layers\")\n",
    "print(model.eval())"
   ]
  },
  {
   "cell_type": "markdown",
   "id": "ae178836",
   "metadata": {},
   "source": [
    "# Forward Activations"
   ]
  },
  {
   "cell_type": "code",
   "execution_count": 5,
   "id": "9210eb31",
   "metadata": {},
   "outputs": [
    {
     "name": "stdout",
     "output_type": "stream",
     "text": [
      "Layer  0 :  torch.Size([1, 3, 224, 224])\n",
      "Layer  1 :  torch.Size([1, 64, 224, 224])\n",
      "Layer  2 :  torch.Size([1, 64, 224, 224])\n",
      "Layer  3 :  torch.Size([1, 64, 224, 224])\n",
      "Layer  4 :  torch.Size([1, 64, 224, 224])\n",
      "Layer  5 :  torch.Size([1, 64, 112, 112])\n",
      "Layer  6 :  torch.Size([1, 128, 112, 112])\n",
      "Layer  7 :  torch.Size([1, 128, 112, 112])\n",
      "Layer  8 :  torch.Size([1, 128, 112, 112])\n",
      "Layer  9 :  torch.Size([1, 128, 112, 112])\n",
      "Layer  10 :  torch.Size([1, 128, 56, 56])\n",
      "Layer  11 :  torch.Size([1, 256, 56, 56])\n",
      "Layer  12 :  torch.Size([1, 256, 56, 56])\n",
      "Layer  13 :  torch.Size([1, 256, 56, 56])\n",
      "Layer  14 :  torch.Size([1, 256, 56, 56])\n",
      "Layer  15 :  torch.Size([1, 256, 56, 56])\n",
      "Layer  16 :  torch.Size([1, 256, 56, 56])\n",
      "Layer  17 :  torch.Size([1, 256, 28, 28])\n",
      "Layer  18 :  torch.Size([1, 512, 28, 28])\n",
      "Layer  19 :  torch.Size([1, 512, 28, 28])\n",
      "Layer  20 :  torch.Size([1, 512, 28, 28])\n",
      "Layer  21 :  torch.Size([1, 512, 28, 28])\n",
      "Layer  22 :  torch.Size([1, 512, 28, 28])\n",
      "Layer  23 :  torch.Size([1, 512, 28, 28])\n",
      "Layer  24 :  torch.Size([1, 512, 14, 14])\n",
      "Layer  25 :  torch.Size([1, 512, 14, 14])\n",
      "Layer  26 :  torch.Size([1, 512, 14, 14])\n",
      "Layer  27 :  torch.Size([1, 512, 14, 14])\n",
      "Layer  28 :  torch.Size([1, 512, 14, 14])\n",
      "Layer  29 :  torch.Size([1, 512, 14, 14])\n",
      "Layer  30 :  torch.Size([1, 512, 14, 14])\n",
      "Layer  31 :  torch.Size([1, 512, 7, 7])\n",
      "Layer  32 :  torch.Size([1, 4096, 1, 1])\n",
      "Layer  33 :  torch.Size([1, 4096, 1, 1])\n",
      "Layer  34 :  torch.Size([1, 4096, 1, 1])\n",
      "Layer  35 :  torch.Size([1, 4096, 1, 1])\n",
      "Layer  36 :  torch.Size([1, 4096, 1, 1])\n",
      "Layer  37 :  torch.Size([1, 4096, 1, 1])\n"
     ]
    }
   ],
   "source": [
    "A = [X]+[None]*L\n",
    "for l in range(L):\n",
    "    A[l+1] = layers[l].forward(A[l])\n",
    "    print (\"Layer \",l,\": \",A[l].shape)\n",
    "    "
   ]
  },
  {
   "cell_type": "markdown",
   "id": "6a72b0ca",
   "metadata": {},
   "source": [
    "Highest score classes after forward pass "
   ]
  },
  {
   "cell_type": "code",
   "execution_count": 6,
   "id": "188b51b3",
   "metadata": {
    "scrolled": true
   },
   "outputs": [
    {
     "name": "stdout",
     "output_type": "stream",
     "text": [
      "black widow, Latrode ( 75): 17.041\n",
      "barn spider, Araneus ( 73): 15.938\n",
      "black and gold garde ( 72): 13.037\n",
      "                tick ( 78): 11.843\n",
      "harvestman, daddy lo ( 70): 11.742\n",
      "garden spider, Arane ( 74): 11.568\n",
      "wolf spider, hunting ( 77): 11.439\n",
      "spider web, spider's (815): 10.626\n",
      " ant, emmet, pismire (310):  8.332\n",
      "bolo tie, bolo, bola (451):  8.188\n"
     ]
    }
   ],
   "source": [
    "scores = numpy.array(A[-1].data.view(-1))\n",
    "ind = numpy.argsort(-scores)\n",
    "\n",
    "for i in ind[:10]:\n",
    "    print('%20s (%3d): %6.3f'%(utils.imgclasses[i][:20],i,scores[i]))"
   ]
  },
  {
   "cell_type": "markdown",
   "id": "c36ad8d7",
   "metadata": {},
   "source": [
    "# Backward pass Relevances"
   ]
  },
  {
   "cell_type": "code",
   "execution_count": 7,
   "id": "ac18653c",
   "metadata": {},
   "outputs": [
    {
     "name": "stdout",
     "output_type": "stream",
     "text": [
      "tensor([[0.]])\n"
     ]
    }
   ],
   "source": [
    "T = torch.FloatTensor((1.0*(numpy.arange(1000)==75).reshape([1,1000,1,1])))\n",
    "print(T[0][483])\n",
    "R = [None]*L + [(A[-1]*T).data]\n"
   ]
  },
  {
   "cell_type": "code",
   "execution_count": 8,
   "id": "5a2ccb44",
   "metadata": {},
   "outputs": [
    {
     "name": "stdout",
     "output_type": "stream",
     "text": [
      "38\n",
      "Relevance on layer  37 : torch.Size([1, 4096, 1, 1])\n",
      "Relevance on layer  34 : torch.Size([1, 4096, 1, 1])\n",
      "Relevance on layer  31 : torch.Size([1, 512, 7, 7])\n",
      "Relevance on layer  30 : torch.Size([1, 512, 14, 14])\n",
      "Relevance on layer  28 : torch.Size([1, 512, 14, 14])\n",
      "Relevance on layer  26 : torch.Size([1, 512, 14, 14])\n",
      "Relevance on layer  24 : torch.Size([1, 512, 14, 14])\n",
      "Relevance on layer  23 : torch.Size([1, 512, 28, 28])\n",
      "Relevance on layer  21 : torch.Size([1, 512, 28, 28])\n",
      "Relevance on layer  19 : torch.Size([1, 512, 28, 28])\n",
      "Relevance on layer  17 : torch.Size([1, 256, 28, 28])\n",
      "Relevance on layer  16 : torch.Size([1, 256, 56, 56])\n",
      "Relevance on layer  14 : torch.Size([1, 256, 56, 56])\n",
      "Relevance on layer  12 : torch.Size([1, 256, 56, 56])\n",
      "Relevance on layer  10 : torch.Size([1, 128, 56, 56])\n",
      "Relevance on layer  9 : torch.Size([1, 128, 112, 112])\n",
      "Relevance on layer  7 : torch.Size([1, 128, 112, 112])\n",
      "Relevance on layer  5 : torch.Size([1, 64, 112, 112])\n",
      "Relevance on layer  4 : torch.Size([1, 64, 224, 224])\n",
      "Relevance on layer  2 : torch.Size([1, 64, 224, 224])\n"
     ]
    }
   ],
   "source": [
    "print(L)\n",
    "for l in range(1,L)[::-1]:\n",
    "    A[l] = (A[l].data).requires_grad_(True)\n",
    "\n",
    "    if isinstance(layers[l],torch.nn.MaxPool2d): layers[l] = torch.nn.AvgPool2d(2)\n",
    "\n",
    "    if isinstance(layers[l],torch.nn.Conv2d) or isinstance(layers[l],torch.nn.AvgPool2d):\n",
    "\n",
    "        if l <= 16:       rho = lambda p: p + 0.25*p.clamp(min=0); incr = lambda z: z+1e-9\n",
    "        if 17 <= l <= 30: rho = lambda p: p;                       incr = lambda z: z+1e-9+0.25*((z**2).mean()**.5).data\n",
    "        if l >= 31:       rho = lambda p: p;                       incr = lambda z: z+1e-9\n",
    "\n",
    "        z = incr(utils.newlayer(layers[l],rho).forward(A[l]))  # step 1\n",
    "        s = (R[l+1]/z).data                                    # step 2\n",
    "        (z*s).sum().backward(); c = A[l].grad                  # step 3\n",
    "        R[l] = (A[l]*c).data                                   # step 4\n",
    "        \n",
    "        print(\"Relevance on layer \",l,\":\",R[l].shape)\n",
    "        \n",
    "    else:\n",
    "        layers[l]\n",
    "        R[l] = R[l+1]\n",
    "#         print(\"else\",l,layers[l])"
   ]
  },
  {
   "cell_type": "markdown",
   "id": "18c2338d",
   "metadata": {},
   "source": [
    "# Heatmaps for VGG"
   ]
  },
  {
   "cell_type": "code",
   "execution_count": 9,
   "id": "49340260",
   "metadata": {},
   "outputs": [
    {
     "data": {
      "image/png": "[encoded data removed]",
      "text/plain": [
       "<Figure size 108x108 with 1 Axes>"
      ]
     },
     "metadata": {
      "needs_background": "light"
     },
     "output_type": "display_data"
    },
    {
     "data": {
      "image/png": "[encoded data removed]",
      "text/plain": [
       "<Figure size 144x144 with 1 Axes>"
      ]
     },
     "metadata": {
      "needs_background": "light"
     },
     "output_type": "display_data"
    },
    {
     "data": {
      "image/png": "[encoded data removed]",
      "text/plain": [
       "<Figure size 180x180 with 1 Axes>"
      ]
     },
     "metadata": {
      "needs_background": "light"
     },
     "output_type": "display_data"
    },
    {
     "data": {
      "image/png": "[encoded data removed]",
      "text/plain": [
       "<Figure size 216x216 with 1 Axes>"
      ]
     },
     "metadata": {
      "needs_background": "light"
     },
     "output_type": "display_data"
    }
   ],
   "source": [
    "for i,l in enumerate([31,21,11,1]):\n",
    "    utils.heatmap(numpy.array(R[l][0]).sum(axis=0),0.5*i+1.5,0.5*i+1.5)"
   ]
  },
  {
   "cell_type": "code",
   "execution_count": null,
   "id": "00fac62f",
   "metadata": {},
   "outputs": [],
   "source": []
  },
  {
   "cell_type": "code",
   "execution_count": null,
   "id": "cb65ad79",
   "metadata": {},
   "outputs": [],
   "source": []
  }
 ],
 "metadata": {
  "kernelspec": {
   "display_name": "Python 3 (ipykernel)",
   "language": "python",
   "name": "python3"
  },
  "language_info": {
   "codemirror_mode": {
    "name": "ipython",
    "version": 3
   },
   "file_extension": ".py",
   "mimetype": "text/x-python",
   "name": "python",
   "nbconvert_exporter": "python",
   "pygments_lexer": "ipython3",
   "version": "3.9.7"
  }
 },
 "nbformat": 4,
 "nbformat_minor": 5
}
